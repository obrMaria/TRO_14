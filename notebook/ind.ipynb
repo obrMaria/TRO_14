{
 "cells": [
  {
   "cell_type": "markdown",
   "id": "b5882ca0",
   "metadata": {},
   "source": [
    "## Самостоятельное задание"
   ]
  },
  {
   "cell_type": "markdown",
   "id": "961f0184",
   "metadata": {},
   "source": [
    "Применение различных морфологических операций к изображению"
   ]
  },
  {
   "cell_type": "code",
   "execution_count": null,
   "id": "c8fbcdde",
   "metadata": {},
   "outputs": [],
   "source": [
    "import cv2 as cv2\n",
    "import numpy as np\n",
    "import random\n",
    "from PIL import Image, ImageDraw\n",
    "from matplotlib import pyplot as plt"
   ]
  },
  {
   "cell_type": "code",
   "execution_count": null,
   "id": "ef665301",
   "metadata": {},
   "outputs": [],
   "source": [
    "image = cv2.imread(\"img/ind.jpg\", 0)"
   ]
  },
  {
   "cell_type": "code",
   "execution_count": null,
   "id": "e36bf461",
   "metadata": {},
   "outputs": [],
   "source": [
    "kernel = cv2.getStructuringElement(cv2.MORPH_RECT, (5, 5))"
   ]
  },
  {
   "cell_type": "markdown",
   "id": "9da13d31",
   "metadata": {},
   "source": [
    "Применим к данному изображению различные морфологические преобразования"
   ]
  },
  {
   "cell_type": "markdown",
   "id": "30052719",
   "metadata": {},
   "source": [
    "+ Дилатация - увеличивает размер объекта на изображении."
   ]
  },
  {
   "cell_type": "code",
   "execution_count": null,
   "id": "1adb6a24",
   "metadata": {},
   "outputs": [],
   "source": [
    "dilation = cv2.dilate(image,kernel,iterations = 2)"
   ]
  },
  {
   "cell_type": "markdown",
   "id": "9117d1a5",
   "metadata": {},
   "source": [
    "+ Эрозия - уменьшает размер объекта на изображении.\n"
   ]
  },
  {
   "cell_type": "code",
   "execution_count": null,
   "id": "92681e8d",
   "metadata": {},
   "outputs": [],
   "source": [
    "erosion = cv2.erode(image, kernel,iterations = 2)"
   ]
  },
  {
   "cell_type": "markdown",
   "id": "52ae1e6f",
   "metadata": {},
   "source": [
    "+ Градиент - разность между расширением и эрозией изображения, используется для выделения границ объектов."
   ]
  },
  {
   "cell_type": "code",
   "execution_count": null,
   "id": "f7d2a812",
   "metadata": {},
   "outputs": [],
   "source": [
    "gradient = cv2.morphologyEx(image, cv2.MORPH_GRADIENT, kernel)"
   ]
  },
  {
   "cell_type": "code",
   "execution_count": null,
   "id": "f922fe61",
   "metadata": {},
   "outputs": [],
   "source": [
    "plt.figure(figsize=(15,15))\n",
    "plt.subplot(221)\n",
    "plt.imshow(image, cmap=\"gray\")\n",
    "plt.title(\"Оригинал\")\n",
    "\n",
    "plt.subplot(222)\n",
    "plt.imshow(dilation, cmap=\"gray\")\n",
    "plt.title(\"Дилатация\")\n",
    "\n",
    "plt.subplot(223)\n",
    "plt.imshow(erosion, cmap=\"gray\")\n",
    "plt.title(\"Эрозия\")\n",
    "\n",
    "plt.subplot(224)\n",
    "plt.imshow(gradient, cmap=\"gray\")\n",
    "plt.title(\"Градиент\")\n",
    "\n",
    "plt.show()"
   ]
  },
  {
   "cell_type": "markdown",
   "id": "eeafd4a8",
   "metadata": {},
   "source": [
    "+ Топ-хэт - разница между исходным изображением и открытием"
   ]
  },
  {
   "cell_type": "code",
   "execution_count": null,
   "id": "e9328209",
   "metadata": {},
   "outputs": [],
   "source": [
    "top_hat = cv2.morphologyEx(image, cv2.MORPH_TOPHAT, kernel)"
   ]
  },
  {
   "cell_type": "markdown",
   "id": "67b23ec0",
   "metadata": {},
   "source": [
    "+ Блэк-хэт - разница между закрытием входного изображения и входным изображением."
   ]
  },
  {
   "cell_type": "code",
   "execution_count": null,
   "id": "f2640b0a",
   "metadata": {},
   "outputs": [],
   "source": [
    "black_hat = cv2.morphologyEx(image, cv2.MORPH_BLACKHAT, kernel)"
   ]
  },
  {
   "cell_type": "markdown",
   "id": "67383607",
   "metadata": {},
   "source": [
    "+ Открытие - сочетание эрозии и дилатации, используется для удаления мелких объектов и зашумления."
   ]
  },
  {
   "cell_type": "code",
   "execution_count": null,
   "id": "c0259c46",
   "metadata": {},
   "outputs": [],
   "source": [
    "opening = cv2.morphologyEx(image, cv2.MORPH_OPEN, kernel)"
   ]
  },
  {
   "cell_type": "markdown",
   "id": "c62bd31d",
   "metadata": {},
   "source": [
    "+ Закрытие (замыкание) – это комбинация операций: сначала расширение потом эрозия.\n"
   ]
  },
  {
   "cell_type": "code",
   "execution_count": null,
   "id": "b74478a2",
   "metadata": {},
   "outputs": [],
   "source": [
    "closing = cv2.morphologyEx(image, cv2.MORPH_CLOSE, kernel)"
   ]
  },
  {
   "cell_type": "code",
   "execution_count": null,
   "id": "7820353f",
   "metadata": {},
   "outputs": [],
   "source": [
    "plt.figure(figsize=(15,15))\n",
    "plt.subplot(221)\n",
    "plt.imshow(top_hat, cmap=\"gray\")\n",
    "plt.title(\"Top Hat\")\n",
    "\n",
    "plt.subplot(222)\n",
    "plt.imshow(black_hat, cmap=\"gray\")\n",
    "plt.title(\"Black Hat\")\n",
    "\n",
    "plt.subplot(223)\n",
    "plt.imshow(opening, cmap=\"gray\")\n",
    "plt.title(\"Открытие\")\n",
    "\n",
    "plt.subplot(224)\n",
    "plt.imshow(closing, cmap=\"gray\")\n",
    "plt.title(\"Закрытие\")\n",
    "\n",
    "plt.show();"
   ]
  }
 ],
 "metadata": {
  "kernelspec": {
   "display_name": "Python 3 (ipykernel)",
   "language": "python",
   "name": "python3"
  },
  "language_info": {
   "codemirror_mode": {
    "name": "ipython",
    "version": 3
   },
   "file_extension": ".py",
   "mimetype": "text/x-python",
   "name": "python",
   "nbconvert_exporter": "python",
   "pygments_lexer": "ipython3",
   "version": "3.9.13"
  }
 },
 "nbformat": 4,
 "nbformat_minor": 5
}
