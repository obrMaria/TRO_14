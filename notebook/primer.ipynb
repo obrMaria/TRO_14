{
 "cells": [
  {
   "cell_type": "markdown",
   "id": "cac43eec",
   "metadata": {},
   "source": [
    "### Примеры лабораторной работы"
   ]
  },
  {
   "cell_type": "markdown",
   "id": "74c8ebc6",
   "metadata": {},
   "source": [
    "Задание 8.1. Загрузить библиотеку numpy, файл bin.jpg и преобразовать его с помощью операций дилатация и эрозия. Выбрать ядро, \n",
    "размер которого равен последней цифре в номере списка группы. Здесь \n",
    "ядро 5×5. Выполним сначала операцию дилатации, затем и эрозии.\n"
   ]
  },
  {
   "cell_type": "code",
   "execution_count": null,
   "id": "afd80e8b",
   "metadata": {},
   "outputs": [],
   "source": [
    "import cv2\n",
    "import numpy as np\n",
    "import random\n",
    "from PIL import Image, ImageDraw\n",
    "from matplotlib import pyplot as plt"
   ]
  },
  {
   "cell_type": "code",
   "execution_count": null,
   "id": "58b3a9ea",
   "metadata": {},
   "outputs": [],
   "source": [
    "img = cv2.imread('guf.jpg',0)"
   ]
  },
  {
   "cell_type": "code",
   "execution_count": null,
   "id": "49f55472",
   "metadata": {},
   "outputs": [],
   "source": [
    "kernel = np.ones((5,5), np.uint8)\n",
    "\n",
    "dilation = cv2.dilate(img,kernel,iterations = 1)\n",
    "erosion = cv2.erode(img, kernel,iterations = 1)"
   ]
  },
  {
   "cell_type": "code",
   "execution_count": null,
   "id": "a8898a32",
   "metadata": {},
   "outputs": [],
   "source": [
    "plt.figure(figsize=(15,15))\n",
    "\n",
    "plt.subplot(131),\n",
    "plt.imshow(img,cmap = 'gray'),plt.title(\"Original\"),\n",
    "plt.axis('off')\n",
    "\n",
    "plt.subplot(132),\n",
    "plt.imshow(dilation,cmap = 'gray'),plt.title(\"Dilation\"),\n",
    "plt.axis('off')\n",
    "\n",
    "plt.subplot(133),\n",
    "plt.imshow(erosion,cmap = 'gray'),plt.title(\"Erosion\"),\n",
    "plt.axis('off');"
   ]
  },
  {
   "cell_type": "markdown",
   "id": "2538bbb1",
   "metadata": {},
   "source": [
    "Задание 8.2. Для демонстрации удаления шума создать зашумленный файл, затем к зашумленному файлу применить операцию открытия.\n"
   ]
  },
  {
   "cell_type": "code",
   "execution_count": null,
   "id": "fe97144f",
   "metadata": {},
   "outputs": [],
   "source": [
    "image = Image.open('flower.jpg')\n",
    "draw = ImageDraw.Draw(image)"
   ]
  },
  {
   "cell_type": "code",
   "execution_count": null,
   "id": "faae7c4b",
   "metadata": {},
   "outputs": [],
   "source": [
    "width = image.size[0] \n",
    "height = image.size[1] \n",
    "pix = image.load() \n",
    "for i in range(width):\n",
    "    for j in range(height):\n",
    "        rand = random.randint(0, 200)\n",
    "        a = pix[i, j][0] + rand\n",
    "        b = pix[i, j][1] + rand\n",
    "        c = pix[i, j][2] + rand\n",
    "        if (a > 255):\n",
    "        a = 255\n",
    "        if (b > 255):\n",
    "            b = 255\n",
    "        if (c > 255):\n",
    "            c = 255\n",
    "        draw.point((i, j), (a, b, c))"
   ]
  },
  {
   "cell_type": "code",
   "execution_count": null,
   "id": "d5d65527",
   "metadata": {},
   "outputs": [],
   "source": [
    "image.save(\"median.png\", \"JPEG\")\n",
    "median = cv2.imread(\"median.png\", 1)"
   ]
  },
  {
   "cell_type": "code",
   "execution_count": null,
   "id": "fbbddf9d",
   "metadata": {},
   "outputs": [],
   "source": [
    "plt.figure(figsize=(15,15))\n",
    "\n",
    "plt.subplot(121),\n",
    "plt.imshow(img,cmap = 'gray'),plt.title(\"Original\"),\n",
    "plt.axis('off')\n",
    "\n",
    "plt.subplot(122)\n",
    "plt.imshow(median, cmap='gray'),plt.title(\"Noisy\")\n",
    "plt.axis('off')"
   ]
  },
  {
   "cell_type": "markdown",
   "id": "f9f85a23",
   "metadata": {},
   "source": [
    "Задание 8.3. Трансформировать цветное изображение в полутоновое при его загрузке, к полутоновому файлу применить операцию \n",
    "открытия.\n"
   ]
  },
  {
   "cell_type": "code",
   "execution_count": null,
   "id": "296a0767",
   "metadata": {},
   "outputs": [],
   "source": [
    "kernel = cv2.getStructuringElement(cv2.MORPH_ELLIPSE,(30,30))"
   ]
  },
  {
   "cell_type": "code",
   "execution_count": null,
   "id": "ad92ace0",
   "metadata": {},
   "outputs": [],
   "source": [
    "opening = cv2.morphologyEx(median, cv2.MORPH_OPEN, kernel)\n",
    "closing = cv2.morphologyEx(median, cv2.MORPH_CLOSE, kernel)"
   ]
  },
  {
   "cell_type": "code",
   "execution_count": null,
   "id": "eff455e2",
   "metadata": {},
   "outputs": [],
   "source": [
    "plt.figure(figsize=(15,15))\n",
    "\n",
    "plt.subplot(121)\n",
    "plt.imshow(image, cmap='gray')\n",
    "plt.title(\"Original\")\n",
    "plt.axis('off')\n",
    "\n",
    "plt.subplot(122)\n",
    "plt.imshow(opening, cmap='gray')\n",
    "plt.title(\"Opening\")\n",
    "plt.axis('off')\n",
    "\n",
    "plt.subplot(123)\n",
    "plt.imshow(closing, cmap='gray')\n",
    "plt.title(\"Closing\")\n",
    "plt.axis('off')\n",
    "\n",
    "plt.show()"
   ]
  },
  {
   "cell_type": "markdown",
   "id": "08ca9e6c",
   "metadata": {},
   "source": [
    "Задание 8.4. Трансформировать цветное изображение в полутоновое при его загрузке. Скопировать полутоновое изображение. \n",
    "К первому изображению применить операцию расширения, ко второму эрозию. Затем вычесть из расширенного изображения изображение после эрозии. Результат похож на контур объекта.\n"
   ]
  },
  {
   "cell_type": "code",
   "execution_count": null,
   "id": "03dd5ac0",
   "metadata": {},
   "outputs": [],
   "source": [
    "image = cv2.imread('nature.jpg')"
   ]
  },
  {
   "cell_type": "code",
   "execution_count": null,
   "id": "2a6b7499",
   "metadata": {},
   "outputs": [],
   "source": [
    "gray_image = cv2.cvtColor(image, cv2.COLOR_BGR2GRAY)\n",
    "copied_image = gray_image.copy()"
   ]
  },
  {
   "cell_type": "code",
   "execution_count": null,
   "id": "1af4f9ea",
   "metadata": {},
   "outputs": [],
   "source": [
    "kernel = np.ones((5, 5), np.uint8)\n",
    "dilated_image = cv2.dilate(gray_image, kernel, iterations=1)"
   ]
  },
  {
   "cell_type": "code",
   "execution_count": null,
   "id": "8d96060b",
   "metadata": {},
   "outputs": [],
   "source": [
    "eroded_image = cv2.erode(copied_image, kernel, iterations=1)\n",
    "result_image = dilated_image - eroded_image"
   ]
  },
  {
   "cell_type": "code",
   "execution_count": null,
   "id": "d71f7071",
   "metadata": {},
   "outputs": [],
   "source": [
    "plt.figure(figsize=(15,15))\n",
    "\n",
    "plt.subplot(331)\n",
    "plt.imshow(image, cmap='gray')\n",
    "plt.title(\"Original\")\n",
    "plt.axis('off')\n",
    "\n",
    "plt.subplot(332)\n",
    "plt.imshow(gray_image, cmap='gray')\n",
    "plt.title(\"Gray\")\n",
    "plt.axis('off')\n",
    "\n",
    "plt.subplot(333)\n",
    "plt.imshow(dilated_image, cmap='gray')\n",
    "plt.title(\"Dilated\")\n",
    "plt.axis('off')\n",
    "\n",
    "plt.subplot(334)\n",
    "plt.imshow(eroded_image, cmap='gray')\n",
    "plt.title(\"Eroded\")\n",
    "plt.axis('off')\n",
    "\n",
    "plt.subplot(335)\n",
    "plt.imshow(result_image, cmap='gray')\n",
    "plt.title(\"Result\")\n",
    "plt.axis('off')\n",
    "\n",
    "plt.show()"
   ]
  },
  {
   "cell_type": "markdown",
   "id": "7e10446c",
   "metadata": {},
   "source": [
    "Задание 8.5. Применить операцию цилиндр к изображению, размер ядра равен 40 + №, № – номер по списку группы."
   ]
  },
  {
   "cell_type": "code",
   "execution_count": null,
   "id": "31e879bd",
   "metadata": {},
   "outputs": [],
   "source": [
    "image = cv2.imread(\"room.jpg\")"
   ]
  },
  {
   "cell_type": "code",
   "execution_count": null,
   "id": "af15bcf4",
   "metadata": {},
   "outputs": [],
   "source": [
    "result = cv2.morphologyEx(image, cv2.MORPH_TOPHAT, (61,61))"
   ]
  },
  {
   "cell_type": "code",
   "execution_count": null,
   "id": "b7976055",
   "metadata": {},
   "outputs": [],
   "source": [
    "plt.figure(figsize=(15,15))\n",
    "plt.subplot(121)\n",
    "plt.imshow(image, cmap=\"gray\")\n",
    "plt.title(\"Оригинал\")\n",
    "\n",
    "plt.subplot(122)\n",
    "plt.imshow(result, cmap=\"gray\")\n",
    "plt.title(\"Цилиндр\")\n",
    "\n",
    "plt.show()"
   ]
  },
  {
   "cell_type": "markdown",
   "id": "baef49bc",
   "metadata": {},
   "source": [
    "Задание 8.6. Применить операцию черная шляпа к изображению, \n",
    "размер ядра равен 40 + №, № – номер по списку группы."
   ]
  },
  {
   "cell_type": "code",
   "execution_count": null,
   "id": "54930b69",
   "metadata": {},
   "outputs": [],
   "source": [
    "result = cv2.morphologyEx(image, cv2.MORPH_BLACKHAT, (52,52))"
   ]
  },
  {
   "cell_type": "code",
   "execution_count": null,
   "id": "52e33f0a",
   "metadata": {},
   "outputs": [],
   "source": [
    "plt.figure(figsize=(15,15))\n",
    "plt.subplot(121)\n",
    "plt.imshow(image, cmap=\"gray\")\n",
    "plt.title(\"Оригинал\")\n",
    "\n",
    "plt.subplot(122)\n",
    "plt.imshow(result, cmap=\"gray\")\n",
    "plt.title(\"Черная шляпа\")\n",
    "\n",
    "plt.show()"
   ]
  },
  {
   "cell_type": "markdown",
   "id": "1bcbd3d2",
   "metadata": {},
   "source": [
    "Задание 8.7.\n",
    "\n",
    "Изготовить ядро, его размер выбрать из ряда 3x3, 3x5, 5x3, 5x5, 5x7, 3x7, 7x3, 7x5, 5x7, 7x7, номер варианта должен быть равен номеру по списку группы"
   ]
  },
  {
   "cell_type": "code",
   "execution_count": null,
   "id": "bdd61bfe",
   "metadata": {},
   "outputs": [],
   "source": [
    "img = cv2.resize(image, (900, 600))"
   ]
  },
  {
   "cell_type": "code",
   "execution_count": null,
   "id": "e5df6707",
   "metadata": {},
   "outputs": [],
   "source": [
    "kernel1 = cv2.getStructuringElement(cv2.MORPH_RECT, (3, 5))\n",
    "kernel2 = cv2.getStructuringElement(cv2.MORPH_RECT, (9, 9))"
   ]
  },
  {
   "cell_type": "code",
   "execution_count": null,
   "id": "a2afc9f8",
   "metadata": {},
   "outputs": [],
   "source": [
    "result1 = cv2.morphologyEx(img, cv2.MORPH_CLOSE, kernel1)\n",
    "result2 = cv2.morphologyEx(img, cv2.MORPH_CLOSE, kernel2)"
   ]
  },
  {
   "cell_type": "code",
   "execution_count": null,
   "id": "bdc41117",
   "metadata": {},
   "outputs": [],
   "source": [
    "plt.figure(figsize=(15,15))\n",
    "plt.subplot(121)\n",
    "plt.imshow(result1, cmap=\"gray\")\n",
    "plt.title(\"Result 3x5\")\n",
    "\n",
    "plt.subplot(122)\n",
    "plt.imshow(result2, cmap=\"gray\")\n",
    "plt.title(\"Result 9x9\")\n",
    "\n",
    "plt.show();"
   ]
  }
 ],
 "metadata": {
  "kernelspec": {
   "display_name": "Python 3 (ipykernel)",
   "language": "python",
   "name": "python3"
  },
  "language_info": {
   "codemirror_mode": {
    "name": "ipython",
    "version": 3
   },
   "file_extension": ".py",
   "mimetype": "text/x-python",
   "name": "python",
   "nbconvert_exporter": "python",
   "pygments_lexer": "ipython3",
   "version": "3.9.13"
  }
 },
 "nbformat": 4,
 "nbformat_minor": 5
}
